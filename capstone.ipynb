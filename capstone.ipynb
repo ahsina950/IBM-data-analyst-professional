{
  "nbformat": 4,
  "nbformat_minor": 0,
  "metadata": {
    "colab": {
      "name": "capstone.ipynb",
      "provenance": [],
      "collapsed_sections": [],
      "authorship_tag": "ABX9TyOvwym8N6YPkGICF3Tfuh20",
      "include_colab_link": true
    },
    "kernelspec": {
      "name": "python3",
      "display_name": "Python 3"
    },
    "language_info": {
      "name": "python"
    }
  },
  "cells": [
    {
      "cell_type": "markdown",
      "metadata": {
        "id": "view-in-github",
        "colab_type": "text"
      },
      "source": [
        "<a href=\"https://colab.research.google.com/github/ahsina950/IBM-data-analyst-professional/blob/main/capstone.ipynb\" target=\"_parent\"><img src=\"https://colab.research.google.com/assets/colab-badge.svg\" alt=\"Open In Colab\"/></a>"
      ]
    },
    {
      "cell_type": "markdown",
      "source": [],
      "metadata": {
        "id": "4kEiVtZ_hsju"
      }
    },
    {
      "cell_type": "code",
      "source": [
        "import requests\n",
        "import pandas as pd\n"
      ],
      "metadata": {
        "id": "gGj4rRCuhtlk"
      },
      "execution_count": 8,
      "outputs": []
    },
    {
      "cell_type": "code",
      "source": [
        "baseurl = \"https://cf-courses-data.s3.us.cloud-object-storage.appdomain.cloud/IBM-DA0321EN-SkillsNetwork/labs/module%201/datasets/githubposting.json\"\n"
      ],
      "metadata": {
        "id": "gCWANFn5h4S8"
      },
      "execution_count": 9,
      "outputs": []
    },
    {
      "cell_type": "code",
      "source": [
        " response=requests.get(baseurl)"
      ],
      "metadata": {
        "id": "MhVCba94h7mS"
      },
      "execution_count": 10,
      "outputs": []
    },
    {
      "cell_type": "code",
      "source": [
        "if response.ok:             \n",
        "    data = response.json()\n",
        "data"
      ],
      "metadata": {
        "colab": {
          "base_uri": "https://localhost:8080/"
        },
        "id": "eiJsEJIeh-h9",
        "outputId": "0f4dde06-a064-4a2a-9050-6063afe4cf19"
      },
      "execution_count": 11,
      "outputs": [
        {
          "output_type": "execute_result",
          "data": {
            "text/plain": [
              "{'technology': {'0': 'java',\n",
              "  '1': 'C',\n",
              "  '2': 'C#',\n",
              "  '3': 'C++',\n",
              "  '4': 'Java',\n",
              "  '5': 'JavaScript',\n",
              "  '6': 'Python',\n",
              "  '7': 'Scala',\n",
              "  '8': 'Oracle',\n",
              "  '9': 'SQL Server',\n",
              "  '10': 'MySQL Server',\n",
              "  '11': 'PostgreSQL',\n",
              "  '12': 'MongoDB',\n",
              "  '13': 'java',\n",
              "  '14': 'C',\n",
              "  '15': 'C#',\n",
              "  '16': 'C++',\n",
              "  '17': 'Java',\n",
              "  '18': 'JavaScript',\n",
              "  '19': 'Python',\n",
              "  '20': 'Scala',\n",
              "  '21': 'Oracle',\n",
              "  '22': 'SQL Server',\n",
              "  '23': 'MySQL Server',\n",
              "  '24': 'PostgreSQL',\n",
              "  '25': 'MongoDB',\n",
              "  '26': 'C',\n",
              "  '27': 'MySQL Server',\n",
              "  '28': 'SQL Server',\n",
              "  '29': 'PostgreSQL',\n",
              "  '30': 'Java',\n",
              "  '31': 'PostgreSQL',\n",
              "  '32': 'Java',\n",
              "  '33': 'C',\n",
              "  '34': 'MongoDB',\n",
              "  '35': 'Oracle',\n",
              "  '36': 'PostgreSQL',\n",
              "  '37': 'MongoDB',\n",
              "  '38': 'MySQL Server',\n",
              "  '39': 'Java',\n",
              "  '40': 'JavaScript',\n",
              "  '41': 'Python',\n",
              "  '42': 'C',\n",
              "  '43': 'MongoDB',\n",
              "  '44': 'MySQL Server',\n",
              "  '45': 'PostgreSQL',\n",
              "  '46': 'Oracle',\n",
              "  '47': 'Java',\n",
              "  '48': 'JavaScript',\n",
              "  '49': 'Java',\n",
              "  '50': 'Java',\n",
              "  '51': 'MySQL Server',\n",
              "  '52': 'C++',\n",
              "  '53': 'JavaScript',\n",
              "  '54': 'MySQL Server',\n",
              "  '55': 'PostgreSQL',\n",
              "  '56': 'PostgreSQL',\n",
              "  '57': 'Java',\n",
              "  '58': 'Java',\n",
              "  '59': 'C#',\n",
              "  '60': 'Python',\n",
              "  '61': 'SQL Server',\n",
              "  '62': 'MySQL Server',\n",
              "  '63': 'Java',\n",
              "  '64': 'MySQL Server',\n",
              "  '65': 'PostgreSQL',\n",
              "  '66': 'Java',\n",
              "  '67': 'C#',\n",
              "  '68': 'PostgreSQL',\n",
              "  '69': 'Oracle',\n",
              "  '70': 'C#',\n",
              "  '71': 'C#',\n",
              "  '72': 'PostgreSQL',\n",
              "  '73': 'Java',\n",
              "  '74': 'JavaScript',\n",
              "  '75': 'Java',\n",
              "  '76': 'Oracle',\n",
              "  '77': 'MySQL Server',\n",
              "  '78': 'MySQL Server',\n",
              "  '79': 'MySQL Server',\n",
              "  '80': 'Java',\n",
              "  '81': 'Java',\n",
              "  '82': 'Oracle',\n",
              "  '83': 'JavaScript',\n",
              "  '84': 'PostgreSQL',\n",
              "  '85': 'MongoDB',\n",
              "  '86': 'Java',\n",
              "  '87': 'MongoDB',\n",
              "  '88': 'JavaScript',\n",
              "  '89': 'C++',\n",
              "  '90': 'Oracle',\n",
              "  '91': 'MongoDB',\n",
              "  '92': 'SQL Server',\n",
              "  '93': 'C++',\n",
              "  '94': 'Oracle',\n",
              "  '95': 'JavaScript',\n",
              "  '96': 'Java',\n",
              "  '97': 'java',\n",
              "  '98': 'MongoDB',\n",
              "  '99': 'C#',\n",
              "  '100': 'MySQL Server',\n",
              "  '101': 'PostgreSQL',\n",
              "  '102': 'MongoDB',\n",
              "  '103': 'java',\n",
              "  '104': 'Python',\n",
              "  '105': 'Java',\n",
              "  '106': 'MongoDB',\n",
              "  '107': 'MongoDB',\n",
              "  '108': 'C++',\n",
              "  '109': 'MySQL Server',\n",
              "  '110': 'Java',\n",
              "  '111': 'PostgreSQL',\n",
              "  '112': 'Python',\n",
              "  '113': 'java',\n",
              "  '114': 'SQL Server',\n",
              "  '115': 'Java',\n",
              "  '116': 'Python',\n",
              "  '117': 'JavaScript',\n",
              "  '118': 'PostgreSQL',\n",
              "  '119': 'PostgreSQL',\n",
              "  '120': 'C++',\n",
              "  '121': 'MySQL Server',\n",
              "  '122': 'MongoDB',\n",
              "  '123': 'C#',\n",
              "  '124': 'PostgreSQL',\n",
              "  '125': 'PostgreSQL',\n",
              "  '126': 'C++',\n",
              "  '127': 'Oracle',\n",
              "  '128': 'Python',\n",
              "  '129': 'JavaScript',\n",
              "  '130': 'MongoDB',\n",
              "  '131': 'PostgreSQL',\n",
              "  '132': 'MySQL Server',\n",
              "  '133': 'C#',\n",
              "  '134': 'MySQL Server',\n",
              "  '135': 'PostgreSQL',\n",
              "  '136': 'PostgreSQL',\n",
              "  '137': 'MySQL Server',\n",
              "  '138': 'Scala',\n",
              "  '139': 'C++',\n",
              "  '140': 'MongoDB',\n",
              "  '141': 'C++',\n",
              "  '142': 'MongoDB',\n",
              "  '143': 'Java',\n",
              "  '144': 'Java',\n",
              "  '145': 'java',\n",
              "  '146': 'SQL Server',\n",
              "  '147': 'Python',\n",
              "  '148': 'java',\n",
              "  '149': 'SQL Server',\n",
              "  '150': 'JavaScript',\n",
              "  '151': 'JavaScript',\n",
              "  '152': 'C#',\n",
              "  '153': 'JavaScript',\n",
              "  '154': 'Java',\n",
              "  '155': 'PostgreSQL',\n",
              "  '156': 'PostgreSQL',\n",
              "  '157': 'Java',\n",
              "  '158': 'C++',\n",
              "  '159': 'JavaScript',\n",
              "  '160': 'Java',\n",
              "  '161': 'Oracle',\n",
              "  '162': 'Python',\n",
              "  '163': 'Oracle',\n",
              "  '164': 'java',\n",
              "  '165': 'C#',\n",
              "  '166': 'Java',\n",
              "  '167': 'PostgreSQL',\n",
              "  '168': 'PostgreSQL',\n",
              "  '169': 'Python',\n",
              "  '170': 'Java',\n",
              "  '171': 'MySQL Server',\n",
              "  '172': 'C#',\n",
              "  '173': 'Python',\n",
              "  '174': 'Python',\n",
              "  '175': 'SQL Server',\n",
              "  '176': 'MongoDB',\n",
              "  '177': 'Java',\n",
              "  '178': 'C#',\n",
              "  '179': 'MongoDB',\n",
              "  '180': 'Oracle',\n",
              "  '181': 'Python',\n",
              "  '182': 'Scala',\n",
              "  '183': 'PostgreSQL',\n",
              "  '184': 'Scala',\n",
              "  '185': 'C#',\n",
              "  '186': 'Java',\n",
              "  '187': 'Java',\n",
              "  '188': 'C++',\n",
              "  '189': 'Python',\n",
              "  '190': 'MongoDB',\n",
              "  '191': 'Java',\n",
              "  '192': 'MongoDB',\n",
              "  '193': 'C++',\n",
              "  '194': 'PostgreSQL',\n",
              "  '195': 'Java',\n",
              "  '196': 'C#',\n",
              "  '197': 'MySQL Server',\n",
              "  '198': 'Oracle',\n",
              "  '199': 'Java',\n",
              "  '200': 'Java',\n",
              "  '201': 'MongoDB',\n",
              "  '202': 'Python',\n",
              "  '203': 'SQL Server',\n",
              "  '204': 'C',\n",
              "  '205': 'Oracle',\n",
              "  '206': 'Python',\n",
              "  '207': 'Python',\n",
              "  '208': 'MongoDB',\n",
              "  '209': 'Scala',\n",
              "  '210': 'PostgreSQL',\n",
              "  '211': 'Oracle',\n",
              "  '212': 'Java',\n",
              "  '213': 'MongoDB',\n",
              "  '214': 'C',\n",
              "  '215': 'MongoDB',\n",
              "  '216': 'Oracle',\n",
              "  '217': 'Python',\n",
              "  '218': 'Java',\n",
              "  '219': 'MySQL Server',\n",
              "  '220': 'JavaScript',\n",
              "  '221': 'PostgreSQL',\n",
              "  '222': 'Oracle',\n",
              "  '223': 'Python',\n",
              "  '224': 'Python',\n",
              "  '225': 'JavaScript',\n",
              "  '226': 'MongoDB',\n",
              "  '227': 'Java',\n",
              "  '228': 'MySQL Server',\n",
              "  '229': 'JavaScript',\n",
              "  '230': 'Java',\n",
              "  '231': 'Oracle',\n",
              "  '232': 'JavaScript',\n",
              "  '233': 'PostgreSQL',\n",
              "  '234': 'MySQL Server',\n",
              "  '235': 'MySQL Server',\n",
              "  '236': 'Oracle',\n",
              "  '237': 'Scala',\n",
              "  '238': 'Java',\n",
              "  '239': 'C#',\n",
              "  '240': 'Oracle',\n",
              "  '241': 'Oracle',\n",
              "  '242': 'java',\n",
              "  '243': 'PostgreSQL',\n",
              "  '244': 'MongoDB',\n",
              "  '245': 'PostgreSQL',\n",
              "  '246': 'MongoDB',\n",
              "  '247': 'Scala',\n",
              "  '248': 'MySQL Server',\n",
              "  '249': 'Oracle',\n",
              "  '250': 'Java',\n",
              "  '251': 'C#',\n",
              "  '252': 'PostgreSQL',\n",
              "  '253': 'MongoDB',\n",
              "  '254': 'Scala',\n",
              "  '255': 'JavaScript'},\n",
              " 'number of job posting': {'0': '1',\n",
              "  '1': '10',\n",
              "  '2': '1',\n",
              "  '3': '1',\n",
              "  '4': '2',\n",
              "  '5': '4',\n",
              "  '6': '1',\n",
              "  '7': '5',\n",
              "  '8': '0',\n",
              "  '9': '1',\n",
              "  '10': '0',\n",
              "  '11': '1',\n",
              "  '12': '0',\n",
              "  '13': '1',\n",
              "  '14': '20',\n",
              "  '15': '2',\n",
              "  '16': '3',\n",
              "  '17': '2',\n",
              "  '18': '3',\n",
              "  '19': '2',\n",
              "  '20': '7',\n",
              "  '21': '0',\n",
              "  '22': '1',\n",
              "  '23': '0',\n",
              "  '24': '1',\n",
              "  '25': '0',\n",
              "  '26': '26',\n",
              "  '27': '0',\n",
              "  '28': '1',\n",
              "  '29': '0',\n",
              "  '30': '2',\n",
              "  '31': '0',\n",
              "  '32': '2',\n",
              "  '33': '15',\n",
              "  '34': '0',\n",
              "  '35': '1',\n",
              "  '36': '0',\n",
              "  '37': '1',\n",
              "  '38': '0',\n",
              "  '39': '1',\n",
              "  '40': '2',\n",
              "  '41': '5',\n",
              "  '42': '40',\n",
              "  '43': '1',\n",
              "  '44': '0',\n",
              "  '45': '0',\n",
              "  '46': '1',\n",
              "  '47': '6',\n",
              "  '48': '4',\n",
              "  '49': '8',\n",
              "  '50': '1',\n",
              "  '51': '0',\n",
              "  '52': '2',\n",
              "  '53': '4',\n",
              "  '54': '0',\n",
              "  '55': '1',\n",
              "  '56': '1',\n",
              "  '57': '2',\n",
              "  '58': '3',\n",
              "  '59': '1',\n",
              "  '60': '2',\n",
              "  '61': '2',\n",
              "  '62': '1',\n",
              "  '63': '1',\n",
              "  '64': '1',\n",
              "  '65': '0',\n",
              "  '66': '1',\n",
              "  '67': '0',\n",
              "  '68': '0',\n",
              "  '69': '1',\n",
              "  '70': '1',\n",
              "  '71': '0',\n",
              "  '72': '0',\n",
              "  '73': '2',\n",
              "  '74': '2',\n",
              "  '75': '1',\n",
              "  '76': '0',\n",
              "  '77': '1',\n",
              "  '78': '0',\n",
              "  '79': '0',\n",
              "  '80': '2',\n",
              "  '81': '3',\n",
              "  '82': '0',\n",
              "  '83': '5',\n",
              "  '84': '0',\n",
              "  '85': '2',\n",
              "  '86': '2',\n",
              "  '87': '2',\n",
              "  '88': '3',\n",
              "  '89': '2',\n",
              "  '90': '0',\n",
              "  '91': '1',\n",
              "  '92': '1',\n",
              "  '93': '2',\n",
              "  '94': '0',\n",
              "  '95': '2',\n",
              "  '96': '2',\n",
              "  '97': '1',\n",
              "  '98': '1',\n",
              "  '99': '0',\n",
              "  '100': '0',\n",
              "  '101': '0',\n",
              "  '102': '1',\n",
              "  '103': '2',\n",
              "  '104': '7',\n",
              "  '105': '1',\n",
              "  '106': '1',\n",
              "  '107': '0',\n",
              "  '108': '2',\n",
              "  '109': '1',\n",
              "  '110': '2',\n",
              "  '111': '0',\n",
              "  '112': '2',\n",
              "  '113': '1',\n",
              "  '114': '2',\n",
              "  '115': '2',\n",
              "  '116': '2',\n",
              "  '117': '3',\n",
              "  '118': '0',\n",
              "  '119': '1',\n",
              "  '120': '2',\n",
              "  '121': '0',\n",
              "  '122': '1',\n",
              "  '123': '1',\n",
              "  '124': '1',\n",
              "  '125': '1',\n",
              "  '126': '2',\n",
              "  '127': '0',\n",
              "  '128': '1',\n",
              "  '129': '3',\n",
              "  '130': '0',\n",
              "  '131': '0',\n",
              "  '132': '0',\n",
              "  '133': '1',\n",
              "  '134': '1',\n",
              "  '135': '0',\n",
              "  '136': '0',\n",
              "  '137': '0',\n",
              "  '138': '5',\n",
              "  '139': '1',\n",
              "  '140': '0',\n",
              "  '141': '2',\n",
              "  '142': '0',\n",
              "  '143': '1',\n",
              "  '144': '2',\n",
              "  '145': '1',\n",
              "  '146': '4',\n",
              "  '147': '1',\n",
              "  '148': '1',\n",
              "  '149': '2',\n",
              "  '150': '5',\n",
              "  '151': '2',\n",
              "  '152': '1',\n",
              "  '153': '3',\n",
              "  '154': '1',\n",
              "  '155': '1',\n",
              "  '156': '1',\n",
              "  '157': '2',\n",
              "  '158': '1',\n",
              "  '159': '3',\n",
              "  '160': '3',\n",
              "  '161': '0',\n",
              "  '162': '2',\n",
              "  '163': '0',\n",
              "  '164': '0',\n",
              "  '165': '1',\n",
              "  '166': '1',\n",
              "  '167': '1',\n",
              "  '168': '0',\n",
              "  '169': '3',\n",
              "  '170': '2',\n",
              "  '171': '0',\n",
              "  '172': '1',\n",
              "  '173': '3',\n",
              "  '174': '1',\n",
              "  '175': '1',\n",
              "  '176': '1',\n",
              "  '177': '2',\n",
              "  '178': '1',\n",
              "  '179': '1',\n",
              "  '180': '1',\n",
              "  '181': '3',\n",
              "  '182': '6',\n",
              "  '183': '0',\n",
              "  '184': '4',\n",
              "  '185': '0',\n",
              "  '186': '1',\n",
              "  '187': '2',\n",
              "  '188': '2',\n",
              "  '189': '2',\n",
              "  '190': '1',\n",
              "  '191': '1',\n",
              "  '192': '0',\n",
              "  '193': '2',\n",
              "  '194': '1',\n",
              "  '195': '1',\n",
              "  '196': '1',\n",
              "  '197': '0',\n",
              "  '198': '1',\n",
              "  '199': '1',\n",
              "  '200': '1',\n",
              "  '201': '0',\n",
              "  '202': '2',\n",
              "  '203': '1',\n",
              "  '204': '20',\n",
              "  '205': '0',\n",
              "  '206': '1',\n",
              "  '207': '4',\n",
              "  '208': '0',\n",
              "  '209': '7',\n",
              "  '210': '1',\n",
              "  '211': '0',\n",
              "  '212': '1',\n",
              "  '213': '0',\n",
              "  '214': '53',\n",
              "  '215': '0',\n",
              "  '216': '0',\n",
              "  '217': '3',\n",
              "  '218': '6',\n",
              "  '219': '0',\n",
              "  '220': '6',\n",
              "  '221': '1',\n",
              "  '222': '0',\n",
              "  '223': '2',\n",
              "  '224': '2',\n",
              "  '225': '5',\n",
              "  '226': '1',\n",
              "  '227': '3',\n",
              "  '228': '1',\n",
              "  '229': '1',\n",
              "  '230': '1',\n",
              "  '231': '1',\n",
              "  '232': '2',\n",
              "  '233': '1',\n",
              "  '234': '0',\n",
              "  '235': '0',\n",
              "  '236': '1',\n",
              "  '237': '3',\n",
              "  '238': '2',\n",
              "  '239': '1',\n",
              "  '240': '1',\n",
              "  '241': '0',\n",
              "  '242': '1',\n",
              "  '243': '1',\n",
              "  '244': '1',\n",
              "  '245': '1',\n",
              "  '246': '1',\n",
              "  '247': '8',\n",
              "  '248': '1',\n",
              "  '249': '0',\n",
              "  '250': '1',\n",
              "  '251': '1',\n",
              "  '252': '1',\n",
              "  '253': '1',\n",
              "  '254': '2',\n",
              "  '255': '3'}}"
            ]
          },
          "metadata": {},
          "execution_count": 11
        }
      ]
    },
    {
      "cell_type": "code",
      "source": [
        "tech_list=['C','C#','C++','Java','JavaScript','Python','Scala','Oracle','SQL Server','MySQL Server','PostgreSQL','MongoDB']\n",
        "tech_list"
      ],
      "metadata": {
        "colab": {
          "base_uri": "https://localhost:8080/"
        },
        "id": "wG7NrOeqiUlr",
        "outputId": "a54787a9-0c83-4d81-ad70-94634d2b55d3"
      },
      "execution_count": 14,
      "outputs": [
        {
          "output_type": "execute_result",
          "data": {
            "text/plain": [
              "['C',\n",
              " 'C#',\n",
              " 'C++',\n",
              " 'Java',\n",
              " 'JavaScript',\n",
              " 'Python',\n",
              " 'Scala',\n",
              " 'Oracle',\n",
              " 'SQL Server',\n",
              " 'MySQL Server',\n",
              " 'PostgreSQL',\n",
              " 'MongoDB']"
            ]
          },
          "metadata": {},
          "execution_count": 14
        }
      ]
    },
    {
      "cell_type": "code",
      "source": [
        "!pip install openpyxl"
      ],
      "metadata": {
        "colab": {
          "base_uri": "https://localhost:8080/"
        },
        "id": "AJ8eDRnbiahi",
        "outputId": "8e4aba8e-d7f0-4340-8eb7-b08c5fc44659"
      },
      "execution_count": 15,
      "outputs": [
        {
          "output_type": "stream",
          "name": "stdout",
          "text": [
            "Looking in indexes: https://pypi.org/simple, https://us-python.pkg.dev/colab-wheels/public/simple/\n",
            "Requirement already satisfied: openpyxl in /usr/local/lib/python3.7/dist-packages (3.0.10)\n",
            "Requirement already satisfied: et-xmlfile in /usr/local/lib/python3.7/dist-packages (from openpyxl) (1.1.0)\n"
          ]
        }
      ]
    },
    {
      "cell_type": "code",
      "source": [
        "from openpyxl import Workbook"
      ],
      "metadata": {
        "id": "ojQyqbGQidz6"
      },
      "execution_count": 16,
      "outputs": []
    },
    {
      "cell_type": "code",
      "source": [
        "wb=Workbook()                       \n",
        "ws=wb.active "
      ],
      "metadata": {
        "id": "fwk_ZKoxigPj"
      },
      "execution_count": 17,
      "outputs": []
    },
    {
      "cell_type": "code",
      "source": [
        "ws.append(['Technology','Number_of_Jobs'])\n",
        "\n",
        "for i in tech_list:\n",
        "    ws.append(get_number_of_jobs(i))"
      ],
      "metadata": {
        "id": "eIOk4RuFijg6"
      },
      "execution_count": 18,
      "outputs": []
    },
    {
      "cell_type": "code",
      "source": [
        "wb.save(\"github-job-postings.xlsx\")"
      ],
      "metadata": {
        "id": "-19T30BaimtT"
      },
      "execution_count": 19,
      "outputs": []
    },
    {
      "cell_type": "code",
      "source": [
        "job_data = pd.read_excel(\"github-job-postings.xlsx\")\n",
        "job_data"
      ],
      "metadata": {
        "colab": {
          "base_uri": "https://localhost:8080/",
          "height": 426
        },
        "id": "553p5aXzio_W",
        "outputId": "c0ae0f03-c5b9-47fd-d2e1-9b6ce58152b3"
      },
      "execution_count": 20,
      "outputs": [
        {
          "output_type": "execute_result",
          "data": {
            "text/plain": [
              "      Technology  Number_of_Jobs\n",
              "0              C               2\n",
              "1             C#               2\n",
              "2            C++               2\n",
              "3           Java               2\n",
              "4     JavaScript               2\n",
              "5         Python               2\n",
              "6          Scala               2\n",
              "7         Oracle               2\n",
              "8     SQL Server               2\n",
              "9   MySQL Server               2\n",
              "10    PostgreSQL               2\n",
              "11       MongoDB               2"
            ],
            "text/html": [
              "\n",
              "  <div id=\"df-0df9bb70-adc9-4f4c-a473-5b6db21dc014\">\n",
              "    <div class=\"colab-df-container\">\n",
              "      <div>\n",
              "<style scoped>\n",
              "    .dataframe tbody tr th:only-of-type {\n",
              "        vertical-align: middle;\n",
              "    }\n",
              "\n",
              "    .dataframe tbody tr th {\n",
              "        vertical-align: top;\n",
              "    }\n",
              "\n",
              "    .dataframe thead th {\n",
              "        text-align: right;\n",
              "    }\n",
              "</style>\n",
              "<table border=\"1\" class=\"dataframe\">\n",
              "  <thead>\n",
              "    <tr style=\"text-align: right;\">\n",
              "      <th></th>\n",
              "      <th>Technology</th>\n",
              "      <th>Number_of_Jobs</th>\n",
              "    </tr>\n",
              "  </thead>\n",
              "  <tbody>\n",
              "    <tr>\n",
              "      <th>0</th>\n",
              "      <td>C</td>\n",
              "      <td>2</td>\n",
              "    </tr>\n",
              "    <tr>\n",
              "      <th>1</th>\n",
              "      <td>C#</td>\n",
              "      <td>2</td>\n",
              "    </tr>\n",
              "    <tr>\n",
              "      <th>2</th>\n",
              "      <td>C++</td>\n",
              "      <td>2</td>\n",
              "    </tr>\n",
              "    <tr>\n",
              "      <th>3</th>\n",
              "      <td>Java</td>\n",
              "      <td>2</td>\n",
              "    </tr>\n",
              "    <tr>\n",
              "      <th>4</th>\n",
              "      <td>JavaScript</td>\n",
              "      <td>2</td>\n",
              "    </tr>\n",
              "    <tr>\n",
              "      <th>5</th>\n",
              "      <td>Python</td>\n",
              "      <td>2</td>\n",
              "    </tr>\n",
              "    <tr>\n",
              "      <th>6</th>\n",
              "      <td>Scala</td>\n",
              "      <td>2</td>\n",
              "    </tr>\n",
              "    <tr>\n",
              "      <th>7</th>\n",
              "      <td>Oracle</td>\n",
              "      <td>2</td>\n",
              "    </tr>\n",
              "    <tr>\n",
              "      <th>8</th>\n",
              "      <td>SQL Server</td>\n",
              "      <td>2</td>\n",
              "    </tr>\n",
              "    <tr>\n",
              "      <th>9</th>\n",
              "      <td>MySQL Server</td>\n",
              "      <td>2</td>\n",
              "    </tr>\n",
              "    <tr>\n",
              "      <th>10</th>\n",
              "      <td>PostgreSQL</td>\n",
              "      <td>2</td>\n",
              "    </tr>\n",
              "    <tr>\n",
              "      <th>11</th>\n",
              "      <td>MongoDB</td>\n",
              "      <td>2</td>\n",
              "    </tr>\n",
              "  </tbody>\n",
              "</table>\n",
              "</div>\n",
              "      <button class=\"colab-df-convert\" onclick=\"convertToInteractive('df-0df9bb70-adc9-4f4c-a473-5b6db21dc014')\"\n",
              "              title=\"Convert this dataframe to an interactive table.\"\n",
              "              style=\"display:none;\">\n",
              "        \n",
              "  <svg xmlns=\"http://www.w3.org/2000/svg\" height=\"24px\"viewBox=\"0 0 24 24\"\n",
              "       width=\"24px\">\n",
              "    <path d=\"M0 0h24v24H0V0z\" fill=\"none\"/>\n",
              "    <path d=\"M18.56 5.44l.94 2.06.94-2.06 2.06-.94-2.06-.94-.94-2.06-.94 2.06-2.06.94zm-11 1L8.5 8.5l.94-2.06 2.06-.94-2.06-.94L8.5 2.5l-.94 2.06-2.06.94zm10 10l.94 2.06.94-2.06 2.06-.94-2.06-.94-.94-2.06-.94 2.06-2.06.94z\"/><path d=\"M17.41 7.96l-1.37-1.37c-.4-.4-.92-.59-1.43-.59-.52 0-1.04.2-1.43.59L10.3 9.45l-7.72 7.72c-.78.78-.78 2.05 0 2.83L4 21.41c.39.39.9.59 1.41.59.51 0 1.02-.2 1.41-.59l7.78-7.78 2.81-2.81c.8-.78.8-2.07 0-2.86zM5.41 20L4 18.59l7.72-7.72 1.47 1.35L5.41 20z\"/>\n",
              "  </svg>\n",
              "      </button>\n",
              "      \n",
              "  <style>\n",
              "    .colab-df-container {\n",
              "      display:flex;\n",
              "      flex-wrap:wrap;\n",
              "      gap: 12px;\n",
              "    }\n",
              "\n",
              "    .colab-df-convert {\n",
              "      background-color: #E8F0FE;\n",
              "      border: none;\n",
              "      border-radius: 50%;\n",
              "      cursor: pointer;\n",
              "      display: none;\n",
              "      fill: #1967D2;\n",
              "      height: 32px;\n",
              "      padding: 0 0 0 0;\n",
              "      width: 32px;\n",
              "    }\n",
              "\n",
              "    .colab-df-convert:hover {\n",
              "      background-color: #E2EBFA;\n",
              "      box-shadow: 0px 1px 2px rgba(60, 64, 67, 0.3), 0px 1px 3px 1px rgba(60, 64, 67, 0.15);\n",
              "      fill: #174EA6;\n",
              "    }\n",
              "\n",
              "    [theme=dark] .colab-df-convert {\n",
              "      background-color: #3B4455;\n",
              "      fill: #D2E3FC;\n",
              "    }\n",
              "\n",
              "    [theme=dark] .colab-df-convert:hover {\n",
              "      background-color: #434B5C;\n",
              "      box-shadow: 0px 1px 3px 1px rgba(0, 0, 0, 0.15);\n",
              "      filter: drop-shadow(0px 1px 2px rgba(0, 0, 0, 0.3));\n",
              "      fill: #FFFFFF;\n",
              "    }\n",
              "  </style>\n",
              "\n",
              "      <script>\n",
              "        const buttonEl =\n",
              "          document.querySelector('#df-0df9bb70-adc9-4f4c-a473-5b6db21dc014 button.colab-df-convert');\n",
              "        buttonEl.style.display =\n",
              "          google.colab.kernel.accessAllowed ? 'block' : 'none';\n",
              "\n",
              "        async function convertToInteractive(key) {\n",
              "          const element = document.querySelector('#df-0df9bb70-adc9-4f4c-a473-5b6db21dc014');\n",
              "          const dataTable =\n",
              "            await google.colab.kernel.invokeFunction('convertToInteractive',\n",
              "                                                     [key], {});\n",
              "          if (!dataTable) return;\n",
              "\n",
              "          const docLinkHtml = 'Like what you see? Visit the ' +\n",
              "            '<a target=\"_blank\" href=https://colab.research.google.com/notebooks/data_table.ipynb>data table notebook</a>'\n",
              "            + ' to learn more about interactive tables.';\n",
              "          element.innerHTML = '';\n",
              "          dataTable['output_type'] = 'display_data';\n",
              "          await google.colab.output.renderOutput(dataTable, element);\n",
              "          const docLink = document.createElement('div');\n",
              "          docLink.innerHTML = docLinkHtml;\n",
              "          element.appendChild(docLink);\n",
              "        }\n",
              "      </script>\n",
              "    </div>\n",
              "  </div>\n",
              "  "
            ]
          },
          "metadata": {},
          "execution_count": 20
        }
      ]
    },
    {
      "cell_type": "markdown",
      "source": [
        "Store the results in an excel file"
      ],
      "metadata": {
        "id": "NRAQeQC6iVHL"
      }
    },
    {
      "cell_type": "code",
      "source": [
        "print(get_number_of_jobs('java'))\n"
      ],
      "metadata": {
        "colab": {
          "base_uri": "https://localhost:8080/"
        },
        "id": "lroLvTnViIMb",
        "outputId": "3f3e6467-11b6-4919-c193-a69aa3afffc9"
      },
      "execution_count": 13,
      "outputs": [
        {
          "output_type": "stream",
          "name": "stdout",
          "text": [
            "('java', 2)\n"
          ]
        }
      ]
    },
    {
      "cell_type": "code",
      "source": [
        "def get_number_of_jobs(technology):\n",
        "    number_of_jobs = 0\n",
        "    payload={\"description\":technology,\"page\":1}\n",
        "    r=requests.get(baseurl,params=payload)\n",
        "    if r.ok:             # if all is well() no errors, no network timeouts)\n",
        "        data = r.json()\n",
        "        while len(data) == 50:\n",
        "            payload['page'] = payload['page'] + 1\n",
        "            r=requests.get(baseurl,params=payload)\n",
        "            if response.ok:\n",
        "                data = r.json()\n",
        "                number_of_jobs += len(data)\n",
        "        else:\n",
        "            number_of_jobs += len(data)  \n",
        "            \n",
        "    return technology,number_of_jobs"
      ],
      "metadata": {
        "id": "0P23KrjWiB5-"
      },
      "execution_count": 12,
      "outputs": []
    },
    {
      "cell_type": "markdown",
      "source": [
        "Collect Jobs Data using GitHub Jobs API\n"
      ],
      "metadata": {
        "id": "gcjsc8tthxBC"
      }
    },
    {
      "cell_type": "markdown",
      "source": [],
      "metadata": {
        "id": "Ks8Z-eNXhuFi"
      }
    },
    {
      "cell_type": "code",
      "execution_count": 1,
      "metadata": {
        "id": "O8_V9C4Ygl8-"
      },
      "outputs": [],
      "source": [
        "import requests # you need this module to make an API call"
      ]
    },
    {
      "cell_type": "code",
      "source": [
        "api_url = \"http://api.open-notify.org/astros.json\" # this url gives use the astronaut data"
      ],
      "metadata": {
        "id": "hDXbFHF2g6bb"
      },
      "execution_count": 2,
      "outputs": []
    },
    {
      "cell_type": "code",
      "source": [
        "response = requests.get(api_url)"
      ],
      "metadata": {
        "id": "XL8JYhjnhE52"
      },
      "execution_count": 3,
      "outputs": []
    },
    {
      "cell_type": "code",
      "source": [
        "if response.ok:             # if all is well() no errors, no network timeouts)\n",
        "    data = response.json()  # store the result in json format in a variable called data\n",
        "                            # the variable data is of type dictionary."
      ],
      "metadata": {
        "id": "8zcX14G1hOeO"
      },
      "execution_count": 4,
      "outputs": []
    },
    {
      "cell_type": "code",
      "source": [
        "print(data)"
      ],
      "metadata": {
        "colab": {
          "base_uri": "https://localhost:8080/"
        },
        "id": "atvlXo_VhRuu",
        "outputId": "cb05c3c4-96ff-460d-c07e-0122a6e3e7cb"
      },
      "execution_count": 5,
      "outputs": [
        {
          "output_type": "stream",
          "name": "stdout",
          "text": [
            "{'number': 10, 'people': [{'name': 'Oleg Artemyev', 'craft': 'ISS'}, {'name': 'Denis Matveev', 'craft': 'ISS'}, {'name': 'Sergey Korsakov', 'craft': 'ISS'}, {'name': 'Kjell Lindgren', 'craft': 'ISS'}, {'name': 'Bob Hines', 'craft': 'ISS'}, {'name': 'Samantha Cristoforetti', 'craft': 'ISS'}, {'name': 'Jessica Watkins', 'craft': 'ISS'}, {'name': 'Cai Xuzhe', 'craft': 'Tiangong'}, {'name': 'Chen Dong', 'craft': 'Tiangong'}, {'name': 'Liu Yang', 'craft': 'Tiangong'}], 'message': 'success'}\n"
          ]
        }
      ]
    },
    {
      "cell_type": "code",
      "source": [
        "print(data.get('number'))"
      ],
      "metadata": {
        "colab": {
          "base_uri": "https://localhost:8080/"
        },
        "id": "xgICYmfjhVRz",
        "outputId": "0f7634a6-c610-4dd2-a2d5-e7b010e95a97"
      },
      "execution_count": 6,
      "outputs": [
        {
          "output_type": "stream",
          "name": "stdout",
          "text": [
            "10\n"
          ]
        }
      ]
    },
    {
      "cell_type": "code",
      "source": [
        "astronauts = data.get('people')\n",
        "print(\"There are {} astronauts on ISS\".format(len(astronauts)))\n",
        "print(\"And their names are :\")\n",
        "for astronaut in astronauts:\n",
        "    print(astronaut.get('name'))"
      ],
      "metadata": {
        "colab": {
          "base_uri": "https://localhost:8080/"
        },
        "id": "wI_2FV0UhYKf",
        "outputId": "811265bd-a07b-4f1c-f666-d9936b5473dc"
      },
      "execution_count": 7,
      "outputs": [
        {
          "output_type": "stream",
          "name": "stdout",
          "text": [
            "There are 10 astronauts on ISS\n",
            "And their names are :\n",
            "Oleg Artemyev\n",
            "Denis Matveev\n",
            "Sergey Korsakov\n",
            "Kjell Lindgren\n",
            "Bob Hines\n",
            "Samantha Cristoforetti\n",
            "Jessica Watkins\n",
            "Cai Xuzhe\n",
            "Chen Dong\n",
            "Liu Yang\n"
          ]
        }
      ]
    }
  ]
}